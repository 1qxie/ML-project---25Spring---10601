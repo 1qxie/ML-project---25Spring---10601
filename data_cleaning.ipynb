{
 "cells": [
  {
   "cell_type": "code",
   "execution_count": 1,
   "id": "a9e2314a-4ac1-4dc1-a378-b5175bea6786",
   "metadata": {},
   "outputs": [],
   "source": [
    "import pandas as pd\n",
    "\n",
    "# Load data\n",
    "projects = pd.read_csv('C:/Users/zarin/OneDrive/Рабочий стол/ML data/projects.csv')\n",
    "donations = pd.read_csv('C:/Users/zarin/OneDrive/Рабочий стол/ML data/donations.csv')\n",
    "outcomes = pd.read_csv('C:/Users/zarin/OneDrive/Рабочий стол/ML data/outcomes.csv')\n",
    "resources = pd.read_csv('C:/Users/zarin/OneDrive/Рабочий стол/ML data/resources.csv')\n"
   ]
  },
  {
   "cell_type": "code",
   "execution_count": 4,
   "id": "67e5c650-ad27-49b7-a387-bcfc3fcd6b71",
   "metadata": {},
   "outputs": [],
   "source": [
    "import pandas as pd\n",
    "import numpy as np\n",
    "\n",
    "df = projects.merge(outcomes[['projectid', 'fully_funded']], on='projectid', how='inner')\n",
    "\n",
    "\n"
   ]
  },
  {
   "cell_type": "code",
   "execution_count": 6,
   "id": "85b7f6b0-d22b-4fe2-b474-81f6059aafd2",
   "metadata": {},
   "outputs": [],
   "source": [
    "#Feature Engineering\n",
    "resource_agg = resources.groupby('projectid').agg({\n",
    "    'item_unit_price': ['mean', 'max', 'min'],\n",
    "    'item_quantity': ['sum'],\n",
    "    'item_name': 'nunique'\n",
    "}).reset_index()\n",
    "\n",
    "resource_agg.columns = [\n",
    "    'projectid',\n",
    "    'avg_unit_price', 'max_unit_price', 'min_unit_price',\n",
    "    'total_quantity', 'unique_items'\n",
    "]\n"
   ]
  },
  {
   "cell_type": "code",
   "execution_count": 7,
   "id": "b691468d-a419-4584-8f6e-afea8d89b185",
   "metadata": {},
   "outputs": [],
   "source": [
    "\n",
    "donation_agg = donations.groupby('projectid').agg({\n",
    "    'donation_to_project': ['sum', 'count', 'mean'],\n",
    "    'is_teacher_acct': 'sum',\n",
    "    'payment_was_promo_matched': 'sum'\n",
    "}).reset_index()\n",
    "\n",
    "donation_agg.columns = [\n",
    "    'projectid',\n",
    "    'total_donation_amt', 'donation_count', 'avg_donation',\n",
    "    'num_teacher_donations', 'num_promo_matched'\n",
    "]"
   ]
  },
  {
   "cell_type": "code",
   "execution_count": 8,
   "id": "e9a76378-8c19-406d-b7b4-794c4adda053",
   "metadata": {},
   "outputs": [],
   "source": [
    "#  Merge everything into main DataFrame\n",
    "df = df.merge(resource_agg, on='projectid', how='left') \\\n",
    "       .merge(donation_agg, on='projectid', how='left')"
   ]
  },
  {
   "cell_type": "code",
   "execution_count": 9,
   "id": "3d062634-4689-45b6-8488-01dc84b1fff6",
   "metadata": {},
   "outputs": [],
   "source": [
    "df['date_posted'] = pd.to_datetime(df['date_posted'], errors='coerce')\n",
    "df['posted_month'] = df['date_posted'].dt.month\n",
    "df['posted_dayofweek'] = df['date_posted'].dt.dayofweek\n"
   ]
  },
  {
   "cell_type": "code",
   "execution_count": 10,
   "id": "cfdb78b8-41c2-4d0e-9ad2-f927dd0ef9f3",
   "metadata": {},
   "outputs": [],
   "source": [
    "\n",
    "categorical_cols = [\n",
    "    'school_metro', 'school_state', 'poverty_level', 'grade_level',\n",
    "    'primary_focus_area', 'primary_focus_subject',\n",
    "    'resource_type', 'school_charter', 'school_magnet'\n",
    "]\n",
    "\n",
    "df[categorical_cols] = df[categorical_cols].fillna('Unknown')\n",
    "\n",
    "df_encoded = pd.get_dummies(df[categorical_cols], drop_first=True)"
   ]
  },
  {
   "cell_type": "code",
   "execution_count": 11,
   "id": "bc68d593-6a3c-407a-9fb9-21cecc67eeee",
   "metadata": {},
   "outputs": [
    {
     "name": "stdout",
     "output_type": "stream",
     "text": [
      "Feature matrix shape: (619326, 118)\n",
      "Target vector shape: (619326,)\n"
     ]
    }
   ],
   "source": [
    "\n",
    "numeric_cols = [\n",
    "    'students_reached',\n",
    "    'total_price_excluding_optional_support',\n",
    "    'total_price_including_optional_support',\n",
    "    'avg_unit_price', 'max_unit_price', 'min_unit_price',\n",
    "    'total_quantity', 'unique_items',\n",
    "    'total_donation_amt', 'donation_count', 'avg_donation',\n",
    "    'num_teacher_donations', 'num_promo_matched',\n",
    "    'posted_month', 'posted_dayofweek'\n",
    "]\n",
    "\n",
    "df[numeric_cols] = df[numeric_cols].fillna(0)\n",
    "\n",
    "X = pd.concat([df[numeric_cols], df_encoded], axis=1)\n",
    "y = df['fully_funded']\n",
    "\n",
    "# Final feature matrix ready for modeling!\n",
    "print(f\"Feature matrix shape: {X.shape}\")\n",
    "print(f\"Target vector shape: {y.shape}\")"
   ]
  },
  {
   "cell_type": "code",
   "execution_count": 14,
   "id": "a259fdb8-4599-49e5-926f-74bd32c5a67c",
   "metadata": {},
   "outputs": [],
   "source": [
    "feature_matrix = X.copy()\n",
    "feature_matrix['fully_funded'] = y\n",
    "\n",
    "feature_matrix.to_csv('feature_matrix.csv', index=False)\n"
   ]
  },
  {
   "cell_type": "code",
   "execution_count": 13,
   "id": "2b012436-9b39-43d1-8d7b-b8a70d5f5b6d",
   "metadata": {},
   "outputs": [
    {
     "name": "stdout",
     "output_type": "stream",
     "text": [
      "C:\\Users\\zarin\n"
     ]
    }
   ],
   "source": [
    "import os\n",
    "print(os.getcwd())\n"
   ]
  },
  {
   "cell_type": "code",
   "execution_count": null,
   "id": "84a6a6ef-c265-42d5-bd2c-2a96d267c127",
   "metadata": {},
   "outputs": [],
   "source": []
  }
 ],
 "metadata": {
  "kernelspec": {
   "display_name": "Python 3 (ipykernel)",
   "language": "python",
   "name": "python3"
  },
  "language_info": {
   "codemirror_mode": {
    "name": "ipython",
    "version": 3
   },
   "file_extension": ".py",
   "mimetype": "text/x-python",
   "name": "python",
   "nbconvert_exporter": "python",
   "pygments_lexer": "ipython3",
   "version": "3.12.4"
  }
 },
 "nbformat": 4,
 "nbformat_minor": 5
}
